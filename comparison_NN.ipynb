{
 "cells": [
  {
   "cell_type": "markdown",
   "metadata": {},
   "source": [
    "# Keras Deep NN Model To Compare to Decision Tree\n",
    "***\n",
    "###  TODO:\n",
    "- [x] Balance data\n",
    "- [x] Shuffle data\n",
    "- [x] Build Sequential model and make it run\n",
    "- [ ] Loop over Sequential model to optimise the architecture\n",
    "- [x] Log loss and accuracy\n",
    "- [ ] Plot logged data again decision tree\n",
    "\n",
    "### Figure Out:\n",
    "- [ ] Performance difference with different datasets"
   ]
  },
  {
   "cell_type": "code",
   "execution_count": 211,
   "metadata": {},
   "outputs": [
    {
     "name": "stdout",
     "output_type": "stream",
     "text": [
      "Raw Data Shape: (768, 9)\n",
      "Balanced\n",
      "Shuffled\n",
      "Input Data Shape: (536, 8)\n",
      "Target Data Shape: (536, 1)\n"
     ]
    }
   ],
   "source": [
    "import numpy as np\n",
    "import pandas as pd\n",
    "import matplotlib.pyplot as plt\n",
    "import random\n",
    "import tensorflow as tf\n",
    "import collections\n",
    "\n",
    "def balanceData(data):\n",
    "    num_zeros = len(np.argwhere(data[:,-1] == 0))\n",
    "    num_ones = len(np.argwhere(data[:,-1] == 1))\n",
    "    nums = [num_zeros, num_ones]\n",
    "    num = np.argmin(nums)\n",
    "\n",
    "    bdata = []\n",
    "    count = 0\n",
    "\n",
    "    for i in range(len(data)):\n",
    "        if data[i][-1] == num:\n",
    "            bdata.append(data[i])\n",
    "        else:\n",
    "            if count < nums[num]:\n",
    "                bdata.append(data[i])\n",
    "                count +=1\n",
    "            else:\n",
    "                pass\n",
    "    bdata = np.array(bdata)\n",
    "    \n",
    "    return bdata\n",
    "\n",
    "def checkBalanced(data):\n",
    "    \n",
    "    num_zeros = len(np.argwhere(data[:,-1] == 0))\n",
    "    num_ones = len(np.argwhere(data[:,-1] == 1))\n",
    "    \n",
    "    if num_zeros == num_ones:\n",
    "        print(\"Balanced\")\n",
    "    else:\n",
    "        print(\"ERROR: Not Balanced\")\n",
    "    \n",
    "\n",
    "def loadDataset(file_name):\n",
    "    data = pd.read_csv(\"data/\" + file_name)\n",
    "    # print(data.head(10))\n",
    "\n",
    "    data = data.to_numpy()\n",
    "    print(f\"Raw Data Shape: {data.shape}\")\n",
    "    data = balanceData(data)      # balancing data\n",
    "    checkBalanced(data)\n",
    "    np.random.shuffle(data)       # shuffling data\n",
    "    print(\"Shuffled\")\n",
    "    \n",
    "    X = data[:, 0:-1]\n",
    "    y = data[:, -1]\n",
    "\n",
    "    X = np.asarray(X).reshape(X.shape[0], X.shape[1])\n",
    "    X = tf.keras.utils.normalize(X, axis=0)\n",
    "    y = np.asarray(y).reshape(y.shape[0], 1)\n",
    "    \n",
    "    print(f\"Input Data Shape: {X.shape}\")\n",
    "    print(f\"Target Data Shape: {y.shape}\")\n",
    "    \n",
    "    return X, y\n",
    "\n",
    "############################################################\n",
    "\n",
    "title = \"datasets_228_482_diabetes.csv\"\n",
    "# title = \"data_banknote_authentication.csv\"\n",
    "\n",
    "X, y = loadDataset(title)"
   ]
  },
  {
   "cell_type": "code",
   "execution_count": 212,
   "metadata": {
    "scrolled": true
   },
   "outputs": [
    {
     "name": "stdout",
     "output_type": "stream",
     "text": [
      "Train on 482 samples, validate on 54 samples\n",
      "Epoch 1/30\n",
      "482/482 [==============================] - 1s 2ms/sample - loss: 0.6933 - accuracy: 0.4544 - val_loss: 0.6929 - val_accuracy: 0.4444\n",
      "Epoch 2/30\n",
      "482/482 [==============================] - 0s 249us/sample - loss: 0.6927 - accuracy: 0.5270 - val_loss: 0.6910 - val_accuracy: 0.7222\n",
      "Epoch 3/30\n",
      "482/482 [==============================] - 0s 238us/sample - loss: 0.6921 - accuracy: 0.5290 - val_loss: 0.6923 - val_accuracy: 0.4074\n",
      "Epoch 4/30\n",
      "482/482 [==============================] - 0s 227us/sample - loss: 0.6915 - accuracy: 0.5145 - val_loss: 0.6934 - val_accuracy: 0.4074\n",
      "Epoch 5/30\n",
      "482/482 [==============================] - 0s 248us/sample - loss: 0.6907 - accuracy: 0.5104 - val_loss: 0.6921 - val_accuracy: 0.4074\n",
      "Epoch 6/30\n",
      "482/482 [==============================] - 0s 177us/sample - loss: 0.6899 - accuracy: 0.6017 - val_loss: 0.6893 - val_accuracy: 0.6667\n",
      "Epoch 7/30\n",
      "482/482 [==============================] - 0s 402us/sample - loss: 0.6895 - accuracy: 0.6494 - val_loss: 0.6883 - val_accuracy: 0.7222\n",
      "Epoch 8/30\n",
      "482/482 [==============================] - 0s 492us/sample - loss: 0.6884 - accuracy: 0.6452 - val_loss: 0.6873 - val_accuracy: 0.7037\n",
      "Epoch 9/30\n",
      "482/482 [==============================] - 0s 454us/sample - loss: 0.6878 - accuracy: 0.6452 - val_loss: 0.6822 - val_accuracy: 0.7222\n",
      "Epoch 10/30\n",
      "482/482 [==============================] - 0s 269us/sample - loss: 0.6861 - accuracy: 0.6411 - val_loss: 0.6817 - val_accuracy: 0.7222\n",
      "Epoch 11/30\n",
      "482/482 [==============================] - 0s 286us/sample - loss: 0.6843 - accuracy: 0.6494 - val_loss: 0.6784 - val_accuracy: 0.7037\n",
      "Epoch 12/30\n",
      "482/482 [==============================] - 0s 269us/sample - loss: 0.6830 - accuracy: 0.6452 - val_loss: 0.6754 - val_accuracy: 0.7037\n",
      "Epoch 13/30\n",
      "482/482 [==============================] - 0s 313us/sample - loss: 0.6810 - accuracy: 0.6473 - val_loss: 0.6750 - val_accuracy: 0.7407\n",
      "Epoch 14/30\n",
      "482/482 [==============================] - 0s 247us/sample - loss: 0.6795 - accuracy: 0.6515 - val_loss: 0.6738 - val_accuracy: 0.7222\n",
      "Epoch 15/30\n",
      "482/482 [==============================] - 0s 261us/sample - loss: 0.6773 - accuracy: 0.6390 - val_loss: 0.6730 - val_accuracy: 0.6852\n",
      "Epoch 16/30\n",
      "482/482 [==============================] - 0s 232us/sample - loss: 0.6744 - accuracy: 0.6577 - val_loss: 0.6657 - val_accuracy: 0.7407\n",
      "Epoch 17/30\n",
      "482/482 [==============================] - 0s 294us/sample - loss: 0.6723 - accuracy: 0.6577 - val_loss: 0.6612 - val_accuracy: 0.7222\n",
      "Epoch 18/30\n",
      "482/482 [==============================] - 0s 238us/sample - loss: 0.6695 - accuracy: 0.6515 - val_loss: 0.6639 - val_accuracy: 0.7037\n",
      "Epoch 19/30\n",
      "482/482 [==============================] - 0s 387us/sample - loss: 0.6670 - accuracy: 0.6473 - val_loss: 0.6520 - val_accuracy: 0.7222\n",
      "Epoch 20/30\n",
      "482/482 [==============================] - 0s 291us/sample - loss: 0.6640 - accuracy: 0.6452 - val_loss: 0.6431 - val_accuracy: 0.7407\n",
      "Epoch 21/30\n",
      "482/482 [==============================] - 0s 257us/sample - loss: 0.6599 - accuracy: 0.6473 - val_loss: 0.6382 - val_accuracy: 0.7593\n",
      "Epoch 22/30\n",
      "482/482 [==============================] - 0s 254us/sample - loss: 0.6573 - accuracy: 0.6598 - val_loss: 0.6296 - val_accuracy: 0.7407\n",
      "Epoch 23/30\n",
      "482/482 [==============================] - 0s 320us/sample - loss: 0.6565 - accuracy: 0.6390 - val_loss: 0.6250 - val_accuracy: 0.7407\n",
      "Epoch 24/30\n",
      "482/482 [==============================] - 0s 360us/sample - loss: 0.6525 - accuracy: 0.6494 - val_loss: 0.6312 - val_accuracy: 0.7222\n",
      "Epoch 25/30\n",
      "482/482 [==============================] - 0s 491us/sample - loss: 0.6475 - accuracy: 0.6598 - val_loss: 0.6193 - val_accuracy: 0.7593\n",
      "Epoch 26/30\n",
      "482/482 [==============================] - 0s 406us/sample - loss: 0.6445 - accuracy: 0.6722 - val_loss: 0.6200 - val_accuracy: 0.7037\n",
      "Epoch 27/30\n",
      "482/482 [==============================] - 0s 426us/sample - loss: 0.6426 - accuracy: 0.6639 - val_loss: 0.6070 - val_accuracy: 0.7593\n",
      "Epoch 28/30\n",
      "482/482 [==============================] - 0s 344us/sample - loss: 0.6405 - accuracy: 0.6556 - val_loss: 0.5985 - val_accuracy: 0.7407\n",
      "Epoch 29/30\n",
      "482/482 [==============================] - 0s 499us/sample - loss: 0.6339 - accuracy: 0.6680 - val_loss: 0.5958 - val_accuracy: 0.7593\n",
      "Epoch 30/30\n",
      "482/482 [==============================] - 0s 577us/sample - loss: 0.6307 - accuracy: 0.6639 - val_loss: 0.5934 - val_accuracy: 0.7593\n"
     ]
    }
   ],
   "source": [
    "from tensorflow.keras import Sequential\n",
    "from tensorflow.keras.layers import Dense\n",
    "from tensorflow.keras.optimizers import Adam\n",
    "\n",
    "in_dim = X.shape[1]\n",
    "batch_size = 32\n",
    "epochs = 30\n",
    "\n",
    "my_callbacks = [tf.keras.callbacks.BaseLogger(stateful_metrics = [\"loss\", \"acc\", \"val_loss\", \"val_acc\"])]\n",
    "\n",
    "model = Sequential()\n",
    "model.add(Dense(32, activation = \"relu\", input_shape=(in_dim,)))\n",
    "model.add(Dense(16, activation = \"relu\"))\n",
    "model.add(Dense(1, activation = \"sigmoid\"))\n",
    "model.compile(optimizer = \"Adam\",\n",
    "              loss = \"binary_crossentropy\",\n",
    "              metrics=[\"accuracy\"])\n",
    "history_callback = model.fit(X, y, batch_size = batch_size, epochs = epochs, validation_split = 0.1, callbacks = my_callbacks)"
   ]
  },
  {
   "cell_type": "code",
   "execution_count": 213,
   "metadata": {},
   "outputs": [],
   "source": [
    "loss_history = np.array(history_callback.history[\"loss\"])\n",
    "acc_history = np.array(history_callback.history[\"accuracy\"])\n",
    "val_acc_history = np.array(history_callback.history[\"val_accuracy\"])\n",
    "val_loss_history = np.array(history_callback.history[\"val_loss\"])\n",
    "\n",
    "history = np.array([loss_history,acc_history,val_loss_history,val_acc_history])\n",
    "# print(history)"
   ]
  },
  {
   "cell_type": "code",
   "execution_count": 214,
   "metadata": {},
   "outputs": [
    {
     "data": {
      "image/png": "[encoded data removed]",
      "text/plain": [
       "<Figure size 432x288 with 1 Axes>"
      ]
     },
     "metadata": {
      "needs_background": "light"
     },
     "output_type": "display_data"
    }
   ],
   "source": [
    "import matplotlib.pyplot as plt\n",
    "x = range(1,epochs+1)\n",
    "fig = plt.figure(1)\n",
    "plt.plot(x, history[1], label = \"acc\", color = \"red\")\n",
    "plt.plot(x, history[3], label = \"val_acc\", color = \"blue\")\n",
    "plt.legend()\n",
    "plt.xlabel(\"epoch\")\n",
    "plt.ylabel(\"accuracy\")\n",
    "plt.show()"
   ]
  },
  {
   "cell_type": "code",
   "execution_count": null,
   "metadata": {},
   "outputs": [],
   "source": []
  }
 ],
 "metadata": {
  "kernelspec": {
   "display_name": "Python 3",
   "language": "python",
   "name": "python3"
  },
  "language_info": {
   "codemirror_mode": {
    "name": "ipython",
    "version": 3
   },
   "file_extension": ".py",
   "mimetype": "text/x-python",
   "name": "python",
   "nbconvert_exporter": "python",
   "pygments_lexer": "ipython3",
   "version": "3.7.7"
  }
 },
 "nbformat": 4,
 "nbformat_minor": 4
}

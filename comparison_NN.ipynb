{
 "cells": [
  {
   "cell_type": "markdown",
   "metadata": {},
   "source": [
    "# Keras Deep NN Model To Compare to Decision Tree\n",
    "***\n",
    "###  TODO:\n",
    "- [x] Balance data\n",
    "- [x] Shuffle data\n",
    "- [x] Build Sequential model and make it run\n",
    "- [ ] Loop over Sequential model to optimise the architecture\n",
    "- [x] Log loss and accuracy\n",
    "- [ ] Plot logged data again decision tree\n",
    "\n",
    "### Figure Out:\n",
    "- [ ] Performance difference with different datasets\n",
    "- [ ] Test how to save weights and load them..."
   ]
  },
  {
   "cell_type": "code",
   "execution_count": 6,
   "metadata": {},
   "outputs": [
    {
     "name": "stdout",
     "output_type": "stream",
     "text": [
      "Raw Data Shape: (768, 9)\n",
      "Dataset is Balanced\n",
      "Dataset was Shuffled\n",
      "Input Data Shape: (536, 8)\n",
      "Target Data Shape: (536, 1)\n"
     ]
    }
   ],
   "source": [
    "import numpy as np\n",
    "import pandas as pd\n",
    "import matplotlib.pyplot as plt\n",
    "import random\n",
    "import tensorflow as tf\n",
    "import collections\n",
    "\n",
    "def balanceData(data):\n",
    "    num_zeros = len(np.argwhere(data[:,-1] == 0))\n",
    "    num_ones = len(np.argwhere(data[:,-1] == 1))\n",
    "    nums = [num_zeros, num_ones]\n",
    "    num = np.argmin(nums)\n",
    "\n",
    "    bdata = []\n",
    "    count = 0\n",
    "\n",
    "    for i in range(len(data)):\n",
    "        if data[i][-1] == num:\n",
    "            bdata.append(data[i])\n",
    "        else:\n",
    "            if count < nums[num]:\n",
    "                bdata.append(data[i])\n",
    "                count +=1\n",
    "            else:\n",
    "                pass\n",
    "    bdata = np.array(bdata)\n",
    "    \n",
    "    return bdata\n",
    "\n",
    "def checkBalanced(data):\n",
    "    \n",
    "    num_zeros = len(np.argwhere(data[:,-1] == 0))\n",
    "    num_ones = len(np.argwhere(data[:,-1] == 1))\n",
    "    \n",
    "    if num_zeros == num_ones:\n",
    "        print(\"Dataset is Balanced\")\n",
    "    else:\n",
    "        print(\"ERROR: Dataset NOT Balanced\")\n",
    "    \n",
    "\n",
    "def loadDataset(file_name):\n",
    "    data = pd.read_csv(\"data/\" + file_name)\n",
    "    # print(data.head(10))\n",
    "\n",
    "    data = data.to_numpy()\n",
    "    print(f\"Raw Data Shape: {data.shape}\")\n",
    "    data = balanceData(data)      # balancing data\n",
    "    checkBalanced(data)\n",
    "    np.random.shuffle(data)       # shuffling data\n",
    "    print(\"Dataset was Shuffled\")\n",
    "    \n",
    "    X = data[:, 0:-1]\n",
    "    y = data[:, -1]\n",
    "\n",
    "    X = np.asarray(X).reshape(X.shape[0], X.shape[1])\n",
    "    X = tf.keras.utils.normalize(X, axis=0)\n",
    "    y = np.asarray(y).reshape(y.shape[0], 1)\n",
    "    \n",
    "    print(f\"Input Data Shape: {X.shape}\")\n",
    "    print(f\"Target Data Shape: {y.shape}\")\n",
    "    \n",
    "    return X, y\n",
    "\n",
    "############################################################\n",
    "\n",
    "title = \"datasets_228_482_diabetes.csv\"\n",
    "# title = \"data_banknote_authentication.csv\"\n",
    "\n",
    "X, y = loadDataset(title)"
   ]
  },
  {
   "cell_type": "code",
   "execution_count": 5,
   "metadata": {
    "scrolled": true
   },
   "outputs": [
    {
     "name": "stdout",
     "output_type": "stream",
     "text": [
      "Train on 482 samples, validate on 54 samples\n",
      "Epoch 1/30\n",
      "482/482 [==============================] - 1s 2ms/sample - loss: 0.6920 - accuracy: 0.4938 - val_loss: 0.6903 - val_accuracy: 0.5556\n",
      "Epoch 2/30\n",
      "482/482 [==============================] - 0s 306us/sample - loss: 0.6912 - accuracy: 0.6017 - val_loss: 0.6901 - val_accuracy: 0.6852\n",
      "Epoch 3/30\n",
      "482/482 [==============================] - 0s 236us/sample - loss: 0.6903 - accuracy: 0.5415 - val_loss: 0.6879 - val_accuracy: 0.6111\n",
      "Epoch 4/30\n",
      "482/482 [==============================] - 0s 208us/sample - loss: 0.6894 - accuracy: 0.6203 - val_loss: 0.6873 - val_accuracy: 0.6667\n",
      "Epoch 5/30\n",
      "482/482 [==============================] - 0s 168us/sample - loss: 0.6879 - accuracy: 0.6722 - val_loss: 0.6859 - val_accuracy: 0.6667\n",
      "Epoch 6/30\n",
      "482/482 [==============================] - 0s 212us/sample - loss: 0.6863 - accuracy: 0.6390 - val_loss: 0.6851 - val_accuracy: 0.6111\n",
      "Epoch 7/30\n",
      "482/482 [==============================] - 0s 248us/sample - loss: 0.6850 - accuracy: 0.6266 - val_loss: 0.6832 - val_accuracy: 0.6481\n",
      "Epoch 8/30\n",
      "482/482 [==============================] - 0s 167us/sample - loss: 0.6834 - accuracy: 0.6909 - val_loss: 0.6792 - val_accuracy: 0.7222\n",
      "Epoch 9/30\n",
      "482/482 [==============================] - 0s 206us/sample - loss: 0.6826 - accuracy: 0.6432 - val_loss: 0.6774 - val_accuracy: 0.7407\n",
      "Epoch 10/30\n",
      "482/482 [==============================] - 0s 215us/sample - loss: 0.6805 - accuracy: 0.6826 - val_loss: 0.6774 - val_accuracy: 0.6296\n",
      "Epoch 11/30\n",
      "482/482 [==============================] - 0s 202us/sample - loss: 0.6785 - accuracy: 0.6867 - val_loss: 0.6739 - val_accuracy: 0.6481\n",
      "Epoch 12/30\n",
      "482/482 [==============================] - 0s 225us/sample - loss: 0.6760 - accuracy: 0.6846 - val_loss: 0.6713 - val_accuracy: 0.6111\n",
      "Epoch 13/30\n",
      "482/482 [==============================] - 0s 219us/sample - loss: 0.6750 - accuracy: 0.6494 - val_loss: 0.6660 - val_accuracy: 0.6481\n",
      "Epoch 14/30\n",
      "482/482 [==============================] - 0s 242us/sample - loss: 0.6721 - accuracy: 0.6473 - val_loss: 0.6639 - val_accuracy: 0.7222\n",
      "Epoch 15/30\n",
      "482/482 [==============================] - 0s 233us/sample - loss: 0.6688 - accuracy: 0.7075 - val_loss: 0.6633 - val_accuracy: 0.5926\n",
      "Epoch 16/30\n",
      "482/482 [==============================] - 0s 212us/sample - loss: 0.6654 - accuracy: 0.6867 - val_loss: 0.6589 - val_accuracy: 0.6111\n",
      "Epoch 17/30\n",
      "482/482 [==============================] - 0s 237us/sample - loss: 0.6622 - accuracy: 0.6867 - val_loss: 0.6547 - val_accuracy: 0.5926\n",
      "Epoch 18/30\n",
      "482/482 [==============================] - 0s 530us/sample - loss: 0.6584 - accuracy: 0.6971 - val_loss: 0.6525 - val_accuracy: 0.5926\n",
      "Epoch 19/30\n",
      "482/482 [==============================] - 0s 253us/sample - loss: 0.6566 - accuracy: 0.6473 - val_loss: 0.6514 - val_accuracy: 0.6296\n",
      "Epoch 20/30\n",
      "482/482 [==============================] - 0s 259us/sample - loss: 0.6510 - accuracy: 0.6929 - val_loss: 0.6425 - val_accuracy: 0.6481\n",
      "Epoch 21/30\n",
      "482/482 [==============================] - 0s 245us/sample - loss: 0.6484 - accuracy: 0.6888 - val_loss: 0.6383 - val_accuracy: 0.5926\n",
      "Epoch 22/30\n",
      "482/482 [==============================] - 0s 245us/sample - loss: 0.6464 - accuracy: 0.6660 - val_loss: 0.6443 - val_accuracy: 0.5926\n",
      "Epoch 23/30\n",
      "482/482 [==============================] - 0s 188us/sample - loss: 0.6376 - accuracy: 0.6784 - val_loss: 0.6293 - val_accuracy: 0.6296\n",
      "Epoch 24/30\n",
      "482/482 [==============================] - 0s 191us/sample - loss: 0.6347 - accuracy: 0.6992 - val_loss: 0.6274 - val_accuracy: 0.5741\n",
      "Epoch 25/30\n",
      "482/482 [==============================] - 0s 248us/sample - loss: 0.6303 - accuracy: 0.7075 - val_loss: 0.6221 - val_accuracy: 0.5926\n",
      "Epoch 26/30\n",
      "482/482 [==============================] - 0s 238us/sample - loss: 0.6273 - accuracy: 0.7033 - val_loss: 0.6181 - val_accuracy: 0.5926\n",
      "Epoch 27/30\n",
      "482/482 [==============================] - 0s 184us/sample - loss: 0.6226 - accuracy: 0.6639 - val_loss: 0.6205 - val_accuracy: 0.5556\n",
      "Epoch 28/30\n",
      "482/482 [==============================] - 0s 225us/sample - loss: 0.6207 - accuracy: 0.6846 - val_loss: 0.6117 - val_accuracy: 0.5741\n",
      "Epoch 29/30\n",
      "482/482 [==============================] - 0s 280us/sample - loss: 0.6150 - accuracy: 0.6929 - val_loss: 0.6095 - val_accuracy: 0.5926\n",
      "Epoch 30/30\n",
      "482/482 [==============================] - 0s 228us/sample - loss: 0.6111 - accuracy: 0.7033 - val_loss: 0.6047 - val_accuracy: 0.6111\n"
     ]
    }
   ],
   "source": [
    "from tensorflow.keras import Sequential\n",
    "from tensorflow.keras.layers import Dense\n",
    "from tensorflow.keras.optimizers import Adam\n",
    "\n",
    "in_dim = X.shape[1]\n",
    "batch_size = 32\n",
    "epochs = 30\n",
    "\n",
    "my_callbacks = [tf.keras.callbacks.BaseLogger(stateful_metrics = [\"loss\", \"acc\", \"val_loss\", \"val_acc\"])]\n",
    "\n",
    "model = Sequential()\n",
    "model.add(Dense(32, activation = \"relu\", input_shape=(in_dim,)))\n",
    "model.add(Dense(16, activation = \"relu\"))\n",
    "model.add(Dense(1, activation = \"sigmoid\"))\n",
    "model.compile(optimizer = \"Adam\",\n",
    "              loss = \"binary_crossentropy\",\n",
    "              metrics=[\"accuracy\"])\n",
    "history_callback = model.fit(X, y, batch_size = batch_size, epochs = epochs, validation_split = 0.1, callbacks = my_callbacks)"
   ]
  },
  {
   "cell_type": "code",
   "execution_count": 7,
   "metadata": {},
   "outputs": [],
   "source": [
    "loss_history = np.array(history_callback.history[\"loss\"])\n",
    "acc_history = np.array(history_callback.history[\"accuracy\"])\n",
    "val_acc_history = np.array(history_callback.history[\"val_accuracy\"])\n",
    "val_loss_history = np.array(history_callback.history[\"val_loss\"])\n",
    "\n",
    "history = np.array([loss_history,acc_history,val_loss_history,val_acc_history])"
   ]
  },
  {
   "cell_type": "code",
   "execution_count": 8,
   "metadata": {},
   "outputs": [
    {
     "data": {
      "image/png": "[encoded data removed]",
      "text/plain": [
       "<Figure size 432x288 with 1 Axes>"
      ]
     },
     "metadata": {
      "needs_background": "light"
     },
     "output_type": "display_data"
    }
   ],
   "source": [
    "import matplotlib.pyplot as plt\n",
    "x = range(1,epochs+1)\n",
    "fig = plt.figure(1)\n",
    "plt.plot(x, history[1], label = \"acc\", color = \"red\")\n",
    "plt.plot(x, history[3], label = \"val_acc\", color = \"blue\")\n",
    "plt.legend()\n",
    "plt.xlabel(\"epoch\")\n",
    "plt.ylabel(\"accuracy\")\n",
    "plt.show()"
   ]
  }
 ],
 "metadata": {
  "kernelspec": {
   "display_name": "Python 3",
   "language": "python",
   "name": "python3"
  },
  "language_info": {
   "codemirror_mode": {
    "name": "ipython",
    "version": 3
   },
   "file_extension": ".py",
   "mimetype": "text/x-python",
   "name": "python",
   "nbconvert_exporter": "python",
   "pygments_lexer": "ipython3",
   "version": "3.7.7"
  }
 },
 "nbformat": 4,
 "nbformat_minor": 4
}
